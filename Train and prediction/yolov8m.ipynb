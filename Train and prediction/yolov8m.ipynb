{
 "cells": [
  {
   "attachments": {},
   "cell_type": "markdown",
   "id": "a9e24436",
   "metadata": {},
   "source": [
    "### Import YOLO from ultralytics"
   ]
  },
  {
   "cell_type": "code",
   "execution_count": 3,
   "id": "b101677c-f6cb-49a5-aa94-5aad1874b332",
   "metadata": {},
   "outputs": [],
   "source": [
    "from ultralytics import YOLO"
   ]
  },
  {
   "attachments": {},
   "cell_type": "markdown",
   "id": "be827db9",
   "metadata": {},
   "source": [
    "### Initalize Model from .pth file"
   ]
  },
  {
   "cell_type": "code",
   "execution_count": 4,
   "id": "a5b182b5-8614-4d17-80f4-7d1a244c6421",
   "metadata": {},
   "outputs": [],
   "source": [
    "model = YOLO('yolov8m.pt') ### Change model.pth if required (yolov8s.pth)"
   ]
  },
  {
   "attachments": {},
   "cell_type": "markdown",
   "id": "a6bf71c2",
   "metadata": {},
   "source": [
    "### Use clearml for Logging\n",
    "*optional*"
   ]
  },
  {
   "cell_type": "code",
   "execution_count": 5,
   "id": "654459bc-51bc-4bb9-af3f-d5076104f2a1",
   "metadata": {},
   "outputs": [],
   "source": [
    "import clearml\n",
    "\n",
    "clearml.browser_login()"
   ]
  },
  {
   "attachments": {},
   "cell_type": "markdown",
   "id": "670e4677",
   "metadata": {},
   "source": [
    "### Model Training"
   ]
  },
  {
   "cell_type": "code",
   "execution_count": null,
   "id": "a9f3c6ac-0a29-4508-a4e6-c4ad7b87957f",
   "metadata": {},
   "outputs": [
    {
     "name": "stderr",
     "output_type": "stream",
     "text": [
      "Ultralytics YOLOv8.0.114 🚀 Python-3.9.12 torch-2.0.0+cu117 CUDA:0 (NVIDIA A100-SXM4-80GB, 81100MiB)\n",
      "\u001b[34m\u001b[1myolo/engine/trainer: \u001b[0mtask=detect, mode=train, model=yolov8m.pt, data=agroverse.yaml, epochs=30, patience=50, batch=16, imgsz=512, save=True, save_period=2, cache=False, device=None, workers=8, project=yolov8m_custom_agroverse, name=yolov8m_custom, exist_ok=False, pretrained=False, optimizer=auto, verbose=True, seed=0, deterministic=True, single_cls=False, rect=False, cos_lr=False, close_mosaic=0, resume=False, amp=True, fraction=1.0, profile=False, overlap_mask=True, mask_ratio=4, dropout=0.0, val=True, split=val, save_json=False, save_hybrid=False, conf=None, iou=0.7, max_det=300, half=False, dnn=False, plots=True, source=None, show=False, save_txt=False, save_conf=False, save_crop=False, show_labels=True, show_conf=True, vid_stride=1, line_width=None, visualize=False, augment=False, agnostic_nms=False, classes=None, retina_masks=False, boxes=True, format=torchscript, keras=False, optimize=False, int8=False, dynamic=False, simplify=False, opset=None, workspace=4, nms=False, lr0=0.01, lrf=0.01, momentum=0.937, weight_decay=0.0005, warmup_epochs=3.0, warmup_momentum=0.8, warmup_bias_lr=0.1, box=7.5, cls=0.5, dfl=1.5, pose=12.0, kobj=1.0, label_smoothing=0.0, nbs=64, hsv_h=0.015, hsv_s=0.7, hsv_v=0.4, degrees=0.0, translate=0.1, scale=0.5, shear=0.0, perspective=0.0, flipud=0.0, fliplr=0.5, mosaic=1.0, mixup=0.0, copy_paste=0.0, cfg=None, v5loader=False, tracker=botsort.yaml, save_dir=yolov8m_custom_agroverse/yolov8m_custom2\n",
      "Overriding model.yaml nc=80 with nc=8\n",
      "\n",
      "                   from  n    params  module                                       arguments                     \n",
      "  0                  -1  1      1392  ultralytics.nn.modules.conv.Conv             [3, 48, 3, 2]                 \n",
      "  1                  -1  1     41664  ultralytics.nn.modules.conv.Conv             [48, 96, 3, 2]                \n",
      "  2                  -1  2    111360  ultralytics.nn.modules.block.C2f             [96, 96, 2, True]             \n",
      "  3                  -1  1    166272  ultralytics.nn.modules.conv.Conv             [96, 192, 3, 2]               \n",
      "  4                  -1  4    813312  ultralytics.nn.modules.block.C2f             [192, 192, 4, True]           \n",
      "  5                  -1  1    664320  ultralytics.nn.modules.conv.Conv             [192, 384, 3, 2]              \n",
      "  6                  -1  4   3248640  ultralytics.nn.modules.block.C2f             [384, 384, 4, True]           \n",
      "  7                  -1  1   1991808  ultralytics.nn.modules.conv.Conv             [384, 576, 3, 2]              \n",
      "  8                  -1  2   3985920  ultralytics.nn.modules.block.C2f             [576, 576, 2, True]           \n",
      "  9                  -1  1    831168  ultralytics.nn.modules.block.SPPF            [576, 576, 5]                 \n",
      " 10                  -1  1         0  torch.nn.modules.upsampling.Upsample         [None, 2, 'nearest']          \n",
      " 11             [-1, 6]  1         0  ultralytics.nn.modules.conv.Concat           [1]                           \n",
      " 12                  -1  2   1993728  ultralytics.nn.modules.block.C2f             [960, 384, 2]                 \n",
      " 13                  -1  1         0  torch.nn.modules.upsampling.Upsample         [None, 2, 'nearest']          \n",
      " 14             [-1, 4]  1         0  ultralytics.nn.modules.conv.Concat           [1]                           \n",
      " 15                  -1  2    517632  ultralytics.nn.modules.block.C2f             [576, 192, 2]                 \n",
      " 16                  -1  1    332160  ultralytics.nn.modules.conv.Conv             [192, 192, 3, 2]              \n",
      " 17            [-1, 12]  1         0  ultralytics.nn.modules.conv.Concat           [1]                           \n",
      " 18                  -1  2   1846272  ultralytics.nn.modules.block.C2f             [576, 384, 2]                 \n",
      " 19                  -1  1   1327872  ultralytics.nn.modules.conv.Conv             [384, 384, 3, 2]              \n",
      " 20             [-1, 9]  1         0  ultralytics.nn.modules.conv.Concat           [1]                           \n",
      " 21                  -1  2   4207104  ultralytics.nn.modules.block.C2f             [960, 576, 2]                 \n",
      " 22        [15, 18, 21]  1   3780328  ultralytics.nn.modules.head.Detect           [8, [192, 384, 576]]          \n",
      "Model summary: 295 layers, 25860952 parameters, 25860936 gradients, 79.1 GFLOPs\n",
      "\n",
      "Transferred 469/475 items from pretrained weights\n"
     ]
    }
   ],
   "source": [
    "results = model.train(\n",
    "   data='agroverse.yaml',\n",
    "    imgsz=512,\n",
    "    epochs=30,\n",
    "    batch=16,\n",
    "    save = True,\n",
    "    name='yolov8m_custom',\n",
    "    val = True,\n",
    "    project = 'yolov8m_custom_agroverse',\n",
    "    save_period = 2,\n",
    "    pretrained = False\n",
    ")"
   ]
  },
  {
   "attachments": {},
   "cell_type": "markdown",
   "id": "d08f0cf5",
   "metadata": {},
   "source": [
    "### After Training init Best model "
   ]
  },
  {
   "cell_type": "code",
   "execution_count": null,
   "id": "87188b78",
   "metadata": {},
   "outputs": [],
   "source": [
    "model = YOLO('Yolov8/yolov8m_custom_agroverse/yolov8m_custom2/weights/best.pt') #Path to best Model" 
   ]
  },
  {
   "attachments": {},
   "cell_type": "markdown",
   "id": "c0126514",
   "metadata": {},
   "source": [
    "#### Prediction"
   ]
  },
  {
   "cell_type": "code",
   "execution_count": null,
   "id": "b9117767-76d0-436d-8b28-5d9c35c38fd0",
   "metadata": {},
   "outputs": [],
   "source": [
    "model.predict('/home/akaniyar/object_detection/Yolov8/test_video.mp4', save=True, conf=0.5,save_txt =True,show = True)"
   ]
  }
 ],
 "metadata": {
  "kernelspec": {
   "display_name": "Python 3 (ipykernel)",
   "language": "python",
   "name": "python3"
  },
  "language_info": {
   "codemirror_mode": {
    "name": "ipython",
    "version": 3
   },
   "file_extension": ".py",
   "mimetype": "text/x-python",
   "name": "python",
   "nbconvert_exporter": "python",
   "pygments_lexer": "ipython3",
   "version": "3.9.12"
  }
 },
 "nbformat": 4,
 "nbformat_minor": 5
}
